{
 "cells": [
  {
   "cell_type": "markdown",
   "id": "headed-terminology",
   "metadata": {
    "toc": true
   },
   "source": [
    "<h1>Table of Contents<span class=\"tocSkip\"></span></h1>\n",
    "<div class=\"toc\"><ul class=\"toc-item\"><li><span><a href=\"#Some-general-information-about-the-dataset\" data-toc-modified-id=\"Some-general-information-about-the-dataset-1\">Some general information about the dataset</a></span></li><li><span><a href=\"#Data-cleaning\" data-toc-modified-id=\"Data-cleaning-2\">Data cleaning</a></span><ul class=\"toc-item\"><li><span><a href=\"#Dropping-duplicates-and-NaNs\" data-toc-modified-id=\"Dropping-duplicates-and-NaNs-2.1\">Dropping duplicates and NaNs</a></span></li><li><span><a href=\"#Timestamp-to-human-date\" data-toc-modified-id=\"Timestamp-to-human-date-2.2\">Timestamp to human date</a></span></li><li><span><a href=\"#Splitting-the-dataset\" data-toc-modified-id=\"Splitting-the-dataset-2.3\">Splitting the dataset</a></span></li></ul></li><li><span><a href=\"#Q2\" data-toc-modified-id=\"Q2-3\">Q2</a></span><ul class=\"toc-item\"><li><span><a href=\"#Dark-query-percent\" data-toc-modified-id=\"Dark-query-percent-3.1\">Dark query percent</a></span></li><li><span><a href=\"#Query-bounce-rate\" data-toc-modified-id=\"Query-bounce-rate-3.2\">Query bounce rate</a></span><ul class=\"toc-item\"><li><span><a href=\"#Venn-Diagram\" data-toc-modified-id=\"Venn-Diagram-3.2.1\">Venn Diagram</a></span></li></ul></li></ul></li><li><span><a href=\"#Q3\" data-toc-modified-id=\"Q3-4\">Q3</a></span><ul class=\"toc-item\"><li><span><a href=\"#Chosen-metric:-number-of-clicks-per-loaded-results\" data-toc-modified-id=\"Chosen-metric:-number-of-clicks-per-loaded-results-4.1\">Chosen metric: number of clicks per loaded results</a></span><ul class=\"toc-item\"><li><span><a href=\"#Scatter-plot\" data-toc-modified-id=\"Scatter-plot-4.1.1\">Scatter plot</a></span></li><li><span><a href=\"#Pie-chart\" data-toc-modified-id=\"Pie-chart-4.1.2\">Pie chart</a></span></li></ul></li></ul></li></ul></div>"
   ]
  },
  {
   "cell_type": "markdown",
   "id": "sealed-ballet",
   "metadata": {},
   "source": [
    "# Divar Summer Camp Task Entrance"
   ]
  },
  {
   "cell_type": "code",
   "execution_count": 24,
   "id": "linear-invitation",
   "metadata": {},
   "outputs": [],
   "source": [
    "import pandas as pd\n",
    "import numpy as np\n",
    "import seaborn as sns\n",
    "from matplotlib import pyplot as plt\n",
    "from matplotlib_venn import venn2\n",
    "import math"
   ]
  },
  {
   "cell_type": "code",
   "execution_count": 25,
   "id": "adjusted-binding",
   "metadata": {},
   "outputs": [],
   "source": [
    "df = pd.read_excel('Summer Camp Task Data.xlsx')"
   ]
  },
  {
   "cell_type": "markdown",
   "id": "neural-wallpaper",
   "metadata": {},
   "source": [
    "## Some general information about the dataset "
   ]
  },
  {
   "cell_type": "code",
   "execution_count": 26,
   "id": "rocky-scotland",
   "metadata": {},
   "outputs": [
    {
     "name": "stdout",
     "output_type": "stream",
     "text": [
      "<class 'pandas.core.frame.DataFrame'>\n",
      "RangeIndex: 111083 entries, 0 to 111082\n",
      "Data columns (total 8 columns):\n",
      " #   Column                   Non-Null Count   Dtype  \n",
      "---  ------                   --------------   -----  \n",
      " 0   action                   111083 non-null  object \n",
      " 1   created_at               111083 non-null  int64  \n",
      " 2   source_event_id          111083 non-null  object \n",
      " 3   device_id                109596 non-null  object \n",
      " 4   post_page_offset         35287 non-null   float64\n",
      " 5   tokens                   35287 non-null   object \n",
      " 6   post_index_in_post_list  75796 non-null   float64\n",
      " 7   post_token               75795 non-null   object \n",
      "dtypes: float64(2), int64(1), object(5)\n",
      "memory usage: 6.8+ MB\n"
     ]
    }
   ],
   "source": [
    "df.info()"
   ]
  },
  {
   "cell_type": "code",
   "execution_count": 27,
   "id": "another-dealing",
   "metadata": {},
   "outputs": [
    {
     "data": {
      "text/plain": [
       "action                          2\n",
       "created_at                 109310\n",
       "source_event_id             14296\n",
       "device_id                    5012\n",
       "post_page_offset              162\n",
       "tokens                      29800\n",
       "post_index_in_post_list      1868\n",
       "post_token                  56804\n",
       "dtype: int64"
      ]
     },
     "execution_count": 27,
     "metadata": {},
     "output_type": "execute_result"
    }
   ],
   "source": [
    "# unique values of each column\n",
    "\n",
    "df.apply(lambda column: column.nunique())"
   ]
  },
  {
   "cell_type": "markdown",
   "id": "integrated-hardwood",
   "metadata": {},
   "source": [
    "## Data cleaning"
   ]
  },
  {
   "cell_type": "markdown",
   "id": "gross-display",
   "metadata": {},
   "source": [
    "### Dropping duplicates and NaNs\n",
    "There are some missing values in device_id column. since we don't wanna use this column for our analysis, we just don't drop them."
   ]
  },
  {
   "cell_type": "code",
   "execution_count": 28,
   "id": "still-input",
   "metadata": {},
   "outputs": [],
   "source": [
    "df.drop_duplicates(inplace=True, ignore_index=True)"
   ]
  },
  {
   "cell_type": "markdown",
   "id": "distributed-charter",
   "metadata": {},
   "source": [
    "### Timestamp to human date"
   ]
  },
  {
   "cell_type": "code",
   "execution_count": 29,
   "id": "swedish-watts",
   "metadata": {},
   "outputs": [
    {
     "data": {
      "text/html": [
       "<div>\n",
       "<style scoped>\n",
       "    .dataframe tbody tr th:only-of-type {\n",
       "        vertical-align: middle;\n",
       "    }\n",
       "\n",
       "    .dataframe tbody tr th {\n",
       "        vertical-align: top;\n",
       "    }\n",
       "\n",
       "    .dataframe thead th {\n",
       "        text-align: right;\n",
       "    }\n",
       "</style>\n",
       "<table border=\"1\" class=\"dataframe\">\n",
       "  <thead>\n",
       "    <tr style=\"text-align: right;\">\n",
       "      <th></th>\n",
       "      <th>action</th>\n",
       "      <th>created_at</th>\n",
       "      <th>source_event_id</th>\n",
       "      <th>device_id</th>\n",
       "      <th>post_page_offset</th>\n",
       "      <th>tokens</th>\n",
       "      <th>post_index_in_post_list</th>\n",
       "      <th>post_token</th>\n",
       "    </tr>\n",
       "  </thead>\n",
       "  <tbody>\n",
       "    <tr>\n",
       "      <th>0</th>\n",
       "      <td>load_post_page</td>\n",
       "      <td>23:50:01.150000</td>\n",
       "      <td>1575558c-a702-46ef-8e18-bc5cef761473</td>\n",
       "      <td>Ed9EADRZRXCHcrcEP_Hnkg</td>\n",
       "      <td>26.0</td>\n",
       "      <td>[wXvP3enu, wXvHXzUS, wXvPHXVe, wXvPHRs3, wXvH3...</td>\n",
       "      <td>NaN</td>\n",
       "      <td>NaN</td>\n",
       "    </tr>\n",
       "    <tr>\n",
       "      <th>1</th>\n",
       "      <td>load_post_page</td>\n",
       "      <td>23:52:01.641000</td>\n",
       "      <td>0fd004f4-ce9b-4766-ac96-7578dedebacb</td>\n",
       "      <td>5aVIp_PNSAWxqwBETYpmxQ</td>\n",
       "      <td>19.0</td>\n",
       "      <td>[wXujANbk, wXurAJsf, wXufwlh1, wXtr_4tD, wXujg...</td>\n",
       "      <td>NaN</td>\n",
       "      <td>NaN</td>\n",
       "    </tr>\n",
       "    <tr>\n",
       "      <th>2</th>\n",
       "      <td>load_post_page</td>\n",
       "      <td>23:50:09.147000</td>\n",
       "      <td>479905f2-3bb4-4c90-8e88-5ce4b60d0a73</td>\n",
       "      <td>mt0UAT4AQe2dECdXBvKYBA</td>\n",
       "      <td>0.0</td>\n",
       "      <td>[wXvHbNqU, wXvDrof9, wXv_aXHk, wXvDrSIa, wXv_a...</td>\n",
       "      <td>NaN</td>\n",
       "      <td>NaN</td>\n",
       "    </tr>\n",
       "    <tr>\n",
       "      <th>3</th>\n",
       "      <td>load_post_page</td>\n",
       "      <td>00:19:36.979000</td>\n",
       "      <td>b9b609bd-a486-42fb-b1a9-5ca03cf4a215</td>\n",
       "      <td>huSKUX-mSwyUcGzgSbXX6g</td>\n",
       "      <td>0.0</td>\n",
       "      <td>[wXvb7cpv, wXvH3hL0, wXvjmDaE, wXvT0sOS, wXv_j...</td>\n",
       "      <td>NaN</td>\n",
       "      <td>NaN</td>\n",
       "    </tr>\n",
       "    <tr>\n",
       "      <th>4</th>\n",
       "      <td>load_post_page</td>\n",
       "      <td>00:26:22.717000</td>\n",
       "      <td>6c390fce-34b6-4e19-837e-6bc295a72514</td>\n",
       "      <td>sL5fLDdoR9a7aDGPP8N-jA</td>\n",
       "      <td>1.0</td>\n",
       "      <td>[wXvjJTIc, wXvb5_SX, wXvb54Gs, wXvb5t6J, wXvbJ...</td>\n",
       "      <td>NaN</td>\n",
       "      <td>NaN</td>\n",
       "    </tr>\n",
       "  </tbody>\n",
       "</table>\n",
       "</div>"
      ],
      "text/plain": [
       "           action       created_at                       source_event_id  \\\n",
       "0  load_post_page  23:50:01.150000  1575558c-a702-46ef-8e18-bc5cef761473   \n",
       "1  load_post_page  23:52:01.641000  0fd004f4-ce9b-4766-ac96-7578dedebacb   \n",
       "2  load_post_page  23:50:09.147000  479905f2-3bb4-4c90-8e88-5ce4b60d0a73   \n",
       "3  load_post_page  00:19:36.979000  b9b609bd-a486-42fb-b1a9-5ca03cf4a215   \n",
       "4  load_post_page  00:26:22.717000  6c390fce-34b6-4e19-837e-6bc295a72514   \n",
       "\n",
       "                device_id  post_page_offset  \\\n",
       "0  Ed9EADRZRXCHcrcEP_Hnkg              26.0   \n",
       "1  5aVIp_PNSAWxqwBETYpmxQ              19.0   \n",
       "2  mt0UAT4AQe2dECdXBvKYBA               0.0   \n",
       "3  huSKUX-mSwyUcGzgSbXX6g               0.0   \n",
       "4  sL5fLDdoR9a7aDGPP8N-jA               1.0   \n",
       "\n",
       "                                              tokens  post_index_in_post_list  \\\n",
       "0  [wXvP3enu, wXvHXzUS, wXvPHXVe, wXvPHRs3, wXvH3...                      NaN   \n",
       "1  [wXujANbk, wXurAJsf, wXufwlh1, wXtr_4tD, wXujg...                      NaN   \n",
       "2  [wXvHbNqU, wXvDrof9, wXv_aXHk, wXvDrSIa, wXv_a...                      NaN   \n",
       "3  [wXvb7cpv, wXvH3hL0, wXvjmDaE, wXvT0sOS, wXv_j...                      NaN   \n",
       "4  [wXvjJTIc, wXvb5_SX, wXvb54Gs, wXvb5t6J, wXvbJ...                      NaN   \n",
       "\n",
       "  post_token  \n",
       "0        NaN  \n",
       "1        NaN  \n",
       "2        NaN  \n",
       "3        NaN  \n",
       "4        NaN  "
      ]
     },
     "execution_count": 29,
     "metadata": {},
     "output_type": "execute_result"
    }
   ],
   "source": [
    "# let's get time of each event. we don't really care about the date part.\n",
    "\n",
    "df['created_at'] = df['created_at'].values.astype(dtype='datetime64[ms]')\n",
    "df['created_at'] = df['created_at'].dt.time\n",
    "df.head()"
   ]
  },
  {
   "cell_type": "markdown",
   "id": "divided-smith",
   "metadata": {},
   "source": [
    "### Splitting the dataset"
   ]
  },
  {
   "cell_type": "code",
   "execution_count": 30,
   "id": "solved-twelve",
   "metadata": {},
   "outputs": [],
   "source": [
    "# seperating actions of load_post_page and click_post; also dropping NaNs and duplicates.\n",
    "\n",
    "load_post = df[df['action'] == 'load_post_page'].reset_index(drop=True)\n",
    "click_post = df[df['action'] == 'click_post'].reset_index(drop=True)\n",
    "\n",
    "click_post.dropna(subset=['post_token'], inplace=True)\n",
    "load_post.dropna(subset=['tokens'], inplace=True)\n",
    "\n",
    "click_post = click_post.drop_duplicates(\n",
    "    subset=['source_event_id', 'post_index_in_post_list', 'post_token'])\n",
    "\n",
    "load_post = load_post.drop_duplicates(\n",
    "    subset=['source_event_id', 'tokens', 'post_page_offset'])"
   ]
  },
  {
   "cell_type": "code",
   "execution_count": 31,
   "id": "restricted-investing",
   "metadata": {},
   "outputs": [],
   "source": [
    "# getting unique events for both load_post and click_post\n",
    "\n",
    "load_post_unique_events = pd.Series(\n",
    "    load_post['source_event_id'].unique()).to_frame(name='source_event_id')\n",
    "\n",
    "click_post_unique_events = pd.Series(\n",
    "    click_post['source_event_id'].unique()).to_frame(name='source_event_id')"
   ]
  },
  {
   "cell_type": "markdown",
   "id": "perceived-pickup",
   "metadata": {},
   "source": [
    "## Q2\n",
    "### Dark query percent"
   ]
  },
  {
   "cell_type": "markdown",
   "id": "hispanic-execution",
   "metadata": {},
   "source": [
    "queries with one loaded page could have less than 10 result(in this case, we restrict post_page_offset to 0)\n",
    "and after that we count those pages with less than 10 results. eventually calculating dark_query_percent."
   ]
  },
  {
   "cell_type": "code",
   "execution_count": 32,
   "id": "cross-despite",
   "metadata": {},
   "outputs": [
    {
     "data": {
      "text/plain": [
       "11    True\n",
       "12    True\n",
       "34    True\n",
       "35    True\n",
       "36    True\n",
       "dtype: bool"
      ]
     },
     "execution_count": 32,
     "metadata": {},
     "output_type": "execute_result"
    }
   ],
   "source": [
    "# choosing, filtering and calculating!\n",
    "\n",
    "load_post_first_load = load_post[load_post['post_page_offset'] ==\n",
    "                                 0].reset_index(drop=True)\n",
    "\n",
    "token_length_filter = load_post_first_load.apply(\n",
    "    lambda x: len(x['tokens'].split(',')) < 10,\n",
    "    axis=1).loc[lambda y: y == True]\n",
    "\n",
    "token_length_filter.head()"
   ]
  },
  {
   "cell_type": "code",
   "execution_count": 33,
   "id": "spare-wrapping",
   "metadata": {},
   "outputs": [
    {
     "data": {
      "text/plain": [
       "12.56"
      ]
     },
     "execution_count": 33,
     "metadata": {},
     "output_type": "execute_result"
    }
   ],
   "source": [
    "dark_query_percent = (len(token_length_filter) /\n",
    "                      (load_post.groupby('source_event_id').ngroups)) * 100\n",
    "\n",
    "np.round(dark_query_percent, 2)"
   ]
  },
  {
   "cell_type": "markdown",
   "id": "inside-macintosh",
   "metadata": {},
   "source": [
    "### Query bounce rate"
   ]
  },
  {
   "cell_type": "markdown",
   "id": "romance-enforcement",
   "metadata": {},
   "source": [
    "by merging two dataframes and filtering the result to 'left_only', we'll get the queries that occurred as load_post_page, but not as click_post, so that the results were appeared, but user didn't click on them."
   ]
  },
  {
   "cell_type": "code",
   "execution_count": 34,
   "id": "mental-surrey",
   "metadata": {},
   "outputs": [
    {
     "data": {
      "text/html": [
       "<div>\n",
       "<style scoped>\n",
       "    .dataframe tbody tr th:only-of-type {\n",
       "        vertical-align: middle;\n",
       "    }\n",
       "\n",
       "    .dataframe tbody tr th {\n",
       "        vertical-align: top;\n",
       "    }\n",
       "\n",
       "    .dataframe thead th {\n",
       "        text-align: right;\n",
       "    }\n",
       "</style>\n",
       "<table border=\"1\" class=\"dataframe\">\n",
       "  <thead>\n",
       "    <tr style=\"text-align: right;\">\n",
       "      <th></th>\n",
       "      <th>source_event_id</th>\n",
       "      <th>_merge</th>\n",
       "    </tr>\n",
       "  </thead>\n",
       "  <tbody>\n",
       "    <tr>\n",
       "      <th>2</th>\n",
       "      <td>479905f2-3bb4-4c90-8e88-5ce4b60d0a73</td>\n",
       "      <td>left_only</td>\n",
       "    </tr>\n",
       "    <tr>\n",
       "      <th>3</th>\n",
       "      <td>b9b609bd-a486-42fb-b1a9-5ca03cf4a215</td>\n",
       "      <td>left_only</td>\n",
       "    </tr>\n",
       "    <tr>\n",
       "      <th>6</th>\n",
       "      <td>576278e1-9af0-4ed9-95c8-09a6b6c2e958</td>\n",
       "      <td>left_only</td>\n",
       "    </tr>\n",
       "    <tr>\n",
       "      <th>10</th>\n",
       "      <td>4f40a5d7-9006-4add-9a14-7d2f53af8a7e</td>\n",
       "      <td>left_only</td>\n",
       "    </tr>\n",
       "    <tr>\n",
       "      <th>16</th>\n",
       "      <td>6c168e02-15ec-4a3e-9a4f-495b91614529</td>\n",
       "      <td>left_only</td>\n",
       "    </tr>\n",
       "  </tbody>\n",
       "</table>\n",
       "</div>"
      ],
      "text/plain": [
       "                         source_event_id     _merge\n",
       "2   479905f2-3bb4-4c90-8e88-5ce4b60d0a73  left_only\n",
       "3   b9b609bd-a486-42fb-b1a9-5ca03cf4a215  left_only\n",
       "6   576278e1-9af0-4ed9-95c8-09a6b6c2e958  left_only\n",
       "10  4f40a5d7-9006-4add-9a14-7d2f53af8a7e  left_only\n",
       "16  6c168e02-15ec-4a3e-9a4f-495b91614529  left_only"
      ]
     },
     "execution_count": 34,
     "metadata": {},
     "output_type": "execute_result"
    }
   ],
   "source": [
    "# merging and choosing\n",
    "\n",
    "not_clicked = load_post_unique_events.merge(click_post_unique_events,\n",
    "                                            on=['source_event_id'],\n",
    "                                            how='left',\n",
    "                                            indicator=True)\n",
    "\n",
    "not_clicked = not_clicked[not_clicked['_merge'] == 'left_only']\n",
    "not_clicked.head()"
   ]
  },
  {
   "cell_type": "code",
   "execution_count": 35,
   "id": "rough-reggae",
   "metadata": {},
   "outputs": [
    {
     "data": {
      "text/plain": [
       "37.05"
      ]
     },
     "execution_count": 35,
     "metadata": {},
     "output_type": "execute_result"
    }
   ],
   "source": [
    "# calculating query bounce rate\n",
    "\n",
    "query_bounce_rate = (len(not_clicked)) / (len(load_post_unique_events)) * 100\n",
    "np.round(query_bounce_rate, 2)"
   ]
  },
  {
   "cell_type": "markdown",
   "id": "improved-imagination",
   "metadata": {},
   "source": [
    "<b> DATA ERROR </b>\n",
    "<br>\n",
    "There are some queries that are found in click_post, but not in load_page. it means user clicked on the result without entering a query. I suppose they're system's recommendation for each user."
   ]
  },
  {
   "cell_type": "markdown",
   "id": "regulated-complaint",
   "metadata": {},
   "source": [
    "#### Venn Diagram\n",
    "To see how many clicks do we have in general and how many of them are on the recommendation or the loaded results."
   ]
  },
  {
   "cell_type": "code",
   "execution_count": 36,
   "id": "featured-benchmark",
   "metadata": {},
   "outputs": [
    {
     "data": {
      "image/png": "[encoded data removed]",
      "text/plain": [
       "<Figure size 576x432 with 1 Axes>"
      ]
     },
     "metadata": {},
     "output_type": "display_data"
    }
   ],
   "source": [
    "c1 = set(load_post_unique_events['source_event_id'])\n",
    "c2 = set(click_post_unique_events['source_event_id'])\n",
    "set_colors = ['#e07a5f', '#81b29a']\n",
    "labels = ['loaded results', 'recommendation clicks', 'loaded results clicks']\n",
    "\n",
    "plt.figure(figsize=(8, 6))\n",
    "venn2([c1, c2], ('loaded', 'clicked'), set_colors=set_colors, alpha=0.8)\n",
    "plt.legend(labels, title='status', fontsize=12)\n",
    "plt.show()"
   ]
  },
  {
   "cell_type": "markdown",
   "id": "accessible-charleston",
   "metadata": {},
   "source": [
    "## Q3\n",
    "\n",
    "### Chosen metric: number of clicks per loaded results\n",
    "next, we count the number of results returned for each query, then count the number of times they were clicked on. Then we merge them, and then we can calculate the average number of clicks per result returned."
   ]
  },
  {
   "cell_type": "code",
   "execution_count": 37,
   "id": "downtown-monaco",
   "metadata": {},
   "outputs": [
    {
     "data": {
      "text/html": [
       "<div>\n",
       "<style scoped>\n",
       "    .dataframe tbody tr th:only-of-type {\n",
       "        vertical-align: middle;\n",
       "    }\n",
       "\n",
       "    .dataframe tbody tr th {\n",
       "        vertical-align: top;\n",
       "    }\n",
       "\n",
       "    .dataframe thead th {\n",
       "        text-align: right;\n",
       "    }\n",
       "</style>\n",
       "<table border=\"1\" class=\"dataframe\">\n",
       "  <thead>\n",
       "    <tr style=\"text-align: right;\">\n",
       "      <th></th>\n",
       "      <th>source_event_id</th>\n",
       "      <th>token_length</th>\n",
       "    </tr>\n",
       "  </thead>\n",
       "  <tbody>\n",
       "    <tr>\n",
       "      <th>0</th>\n",
       "      <td>00049ef3-c027-4f55-869c-46711f0ea0ad</td>\n",
       "      <td>24</td>\n",
       "    </tr>\n",
       "    <tr>\n",
       "      <th>1</th>\n",
       "      <td>00069dda-4175-4bb0-8ef0-c0e1031d4da6</td>\n",
       "      <td>24</td>\n",
       "    </tr>\n",
       "    <tr>\n",
       "      <th>2</th>\n",
       "      <td>0017c208-e016-4231-a022-598ba020f1ff</td>\n",
       "      <td>168</td>\n",
       "    </tr>\n",
       "    <tr>\n",
       "      <th>3</th>\n",
       "      <td>002222cf-9e4b-4432-9e36-ad500a753850</td>\n",
       "      <td>24</td>\n",
       "    </tr>\n",
       "    <tr>\n",
       "      <th>4</th>\n",
       "      <td>004dc60d-2288-453f-bcda-1ad5e8d8211f</td>\n",
       "      <td>25</td>\n",
       "    </tr>\n",
       "  </tbody>\n",
       "</table>\n",
       "</div>"
      ],
      "text/plain": [
       "                        source_event_id  token_length\n",
       "0  00049ef3-c027-4f55-869c-46711f0ea0ad            24\n",
       "1  00069dda-4175-4bb0-8ef0-c0e1031d4da6            24\n",
       "2  0017c208-e016-4231-a022-598ba020f1ff           168\n",
       "3  002222cf-9e4b-4432-9e36-ad500a753850            24\n",
       "4  004dc60d-2288-453f-bcda-1ad5e8d8211f            25"
      ]
     },
     "execution_count": 37,
     "metadata": {},
     "output_type": "execute_result"
    }
   ],
   "source": [
    "# counting the number of result\n",
    "\n",
    "tokens_length = load_post[['source_event_id']]\n",
    "tokens_length = tokens_length.assign(token_length=load_post.apply(\n",
    "    lambda x: len(x['tokens'].split(',')), axis=1))\n",
    "\n",
    "num_of_tokens_per_query = tokens_length.groupby(\n",
    "    ['source_event_id'])['token_length'].sum().reset_index()\n",
    "\n",
    "num_of_tokens_per_query.head()"
   ]
  },
  {
   "cell_type": "code",
   "execution_count": 38,
   "id": "interesting-thunder",
   "metadata": {},
   "outputs": [],
   "source": [
    "# grouping queries based on source_event_id and calculating sum of clicks\n",
    "\n",
    "num_of_clicks = click_post.groupby(\n",
    "    ['source_event_id'])['post_token'].count().reset_index()\n",
    "\n",
    "num_of_clicks.rename(columns={'post_token': 'num_of_click'}, inplace=True)"
   ]
  },
  {
   "cell_type": "code",
   "execution_count": 39,
   "id": "sharing-supply",
   "metadata": {},
   "outputs": [
    {
     "data": {
      "text/html": [
       "<div>\n",
       "<style scoped>\n",
       "    .dataframe tbody tr th:only-of-type {\n",
       "        vertical-align: middle;\n",
       "    }\n",
       "\n",
       "    .dataframe tbody tr th {\n",
       "        vertical-align: top;\n",
       "    }\n",
       "\n",
       "    .dataframe thead th {\n",
       "        text-align: right;\n",
       "    }\n",
       "</style>\n",
       "<table border=\"1\" class=\"dataframe\">\n",
       "  <thead>\n",
       "    <tr style=\"text-align: right;\">\n",
       "      <th></th>\n",
       "      <th>source_event_id</th>\n",
       "      <th>token_length</th>\n",
       "      <th>num_of_click</th>\n",
       "      <th>click_per_results</th>\n",
       "    </tr>\n",
       "  </thead>\n",
       "  <tbody>\n",
       "    <tr>\n",
       "      <th>0</th>\n",
       "      <td>0017c208-e016-4231-a022-598ba020f1ff</td>\n",
       "      <td>168</td>\n",
       "      <td>4.0</td>\n",
       "      <td>0.023810</td>\n",
       "    </tr>\n",
       "    <tr>\n",
       "      <th>1</th>\n",
       "      <td>004dc60d-2288-453f-bcda-1ad5e8d8211f</td>\n",
       "      <td>25</td>\n",
       "      <td>3.0</td>\n",
       "      <td>0.120000</td>\n",
       "    </tr>\n",
       "    <tr>\n",
       "      <th>2</th>\n",
       "      <td>0057b345-8ad7-4c41-9e74-415e39a3140c</td>\n",
       "      <td>24</td>\n",
       "      <td>1.0</td>\n",
       "      <td>0.041667</td>\n",
       "    </tr>\n",
       "    <tr>\n",
       "      <th>3</th>\n",
       "      <td>005fd78b-bd9b-4075-bda3-1ea0f855c55c</td>\n",
       "      <td>240</td>\n",
       "      <td>10.0</td>\n",
       "      <td>0.041667</td>\n",
       "    </tr>\n",
       "    <tr>\n",
       "      <th>4</th>\n",
       "      <td>006bea27-8a2f-4453-a5f3-55d80a2b88c0</td>\n",
       "      <td>48</td>\n",
       "      <td>2.0</td>\n",
       "      <td>0.041667</td>\n",
       "    </tr>\n",
       "  </tbody>\n",
       "</table>\n",
       "</div>"
      ],
      "text/plain": [
       "                        source_event_id  token_length  num_of_click  \\\n",
       "0  0017c208-e016-4231-a022-598ba020f1ff           168           4.0   \n",
       "1  004dc60d-2288-453f-bcda-1ad5e8d8211f            25           3.0   \n",
       "2  0057b345-8ad7-4c41-9e74-415e39a3140c            24           1.0   \n",
       "3  005fd78b-bd9b-4075-bda3-1ea0f855c55c           240          10.0   \n",
       "4  006bea27-8a2f-4453-a5f3-55d80a2b88c0            48           2.0   \n",
       "\n",
       "   click_per_results  \n",
       "0           0.023810  \n",
       "1           0.120000  \n",
       "2           0.041667  \n",
       "3           0.041667  \n",
       "4           0.041667  "
      ]
     },
     "execution_count": 39,
     "metadata": {},
     "output_type": "execute_result"
    }
   ],
   "source": [
    "# merge and find the click_per_results \n",
    "\n",
    "clicked_per_query = num_of_tokens_per_query.merge(num_of_clicks,\n",
    "                                                  on='source_event_id',\n",
    "                                                  how='left',\n",
    "                                                  indicator=True)\n",
    "clicked_per_query = clicked_per_query[\n",
    "    clicked_per_query['_merge'] == 'both'].drop(['_merge'],\n",
    "                                                axis=1).reset_index(drop=True)\n",
    "\n",
    "clicked_per_query['click_per_results'] = clicked_per_query[\n",
    "    'num_of_click'] / clicked_per_query['token_length']\n",
    "clicked_per_query.head()"
   ]
  },
  {
   "cell_type": "code",
   "execution_count": 40,
   "id": "single-agency",
   "metadata": {},
   "outputs": [
    {
     "data": {
      "text/plain": [
       "14.02062220726426"
      ]
     },
     "execution_count": 40,
     "metadata": {},
     "output_type": "execute_result"
    }
   ],
   "source": [
    "(clicked_per_query['click_per_results'].mean())*100"
   ]
  },
  {
   "cell_type": "markdown",
   "id": "musical-questionnaire",
   "metadata": {},
   "source": [
    "#### Scatter plot"
   ]
  },
  {
   "cell_type": "code",
   "execution_count": 41,
   "id": "headed-intent",
   "metadata": {},
   "outputs": [
    {
     "data": {
      "image/png": "[encoded data removed]",
      "text/plain": [
       "<Figure size 576x432 with 1 Axes>"
      ]
     },
     "metadata": {
      "needs_background": "light"
     },
     "output_type": "display_data"
    }
   ],
   "source": [
    "x = clicked_per_query['token_length']\n",
    "y = clicked_per_query['num_of_click']\n",
    "size = clicked_per_query['click_per_results']\n",
    "\n",
    "plt.figure(figsize=(8, 6))\n",
    "sns.scatterplot(x=x, y=y, size=size, color='#1d4e89')\n",
    "plt.show()"
   ]
  },
  {
   "cell_type": "markdown",
   "id": "imported-palace",
   "metadata": {},
   "source": [
    "#### Pie chart"
   ]
  },
  {
   "cell_type": "code",
   "execution_count": 42,
   "id": "radical-contributor",
   "metadata": {},
   "outputs": [
    {
     "data": {
      "image/png": "[encoded data removed]",
      "text/plain": [
       "<Figure size 576x432 with 1 Axes>"
      ]
     },
     "metadata": {},
     "output_type": "display_data"
    }
   ],
   "source": [
    "values = {\n",
    "    'Very Good':\n",
    "    len(clicked_per_query[clicked_per_query['click_per_results'].between(\n",
    "        0.5, 1)]),\n",
    "    'Fair':\n",
    "    len(clicked_per_query[clicked_per_query['click_per_results'].between(\n",
    "        0.1, 0.5)]),\n",
    "    'Poor':\n",
    "    len(clicked_per_query[clicked_per_query['click_per_results'].between(\n",
    "        0.05, 0.1)]),\n",
    "    'Very Poor':\n",
    "    len(clicked_per_query[clicked_per_query['click_per_results'].lt(0.05)]),\n",
    "    'Excellent/Over Satisfaction':\n",
    "    len(clicked_per_query[clicked_per_query['click_per_results'].between(\n",
    "        1, 3.5)]),\n",
    "}\n",
    "\n",
    "plt.figure(figsize=(8, 6))\n",
    "plt.title('User Satisfaction')\n",
    "colors = ['#f2cc8f', '#81b29a', '#3d405b', '#e07a5f', '#f4f1de']\n",
    "plt.pie(x=values.values(),\n",
    "        labels=values.keys(),\n",
    "        autopct=lambda p: '{:.2f}%'.format(p, (p / 100)),\n",
    "        colors=colors)\n",
    "plt.show()"
   ]
  }
 ],
 "metadata": {
  "kernelspec": {
   "display_name": "Python 3",
   "language": "python",
   "name": "python3"
  },
  "language_info": {
   "codemirror_mode": {
    "name": "ipython",
    "version": 3
   },
   "file_extension": ".py",
   "mimetype": "text/x-python",
   "name": "python",
   "nbconvert_exporter": "python",
   "pygments_lexer": "ipython3",
   "version": "3.8.3"
  },
  "toc": {
   "base_numbering": 1,
   "nav_menu": {},
   "number_sections": false,
   "sideBar": true,
   "skip_h1_title": true,
   "title_cell": "Table of Contents",
   "title_sidebar": "Contents",
   "toc_cell": true,
   "toc_position": {},
   "toc_section_display": true,
   "toc_window_display": true
  },
  "varInspector": {
   "cols": {
    "lenName": 16,
    "lenType": 16,
    "lenVar": 40
   },
   "kernels_config": {
    "python": {
     "delete_cmd_postfix": "",
     "delete_cmd_prefix": "del ",
     "library": "var_list.py",
     "varRefreshCmd": "print(var_dic_list())"
    },
    "r": {
     "delete_cmd_postfix": ") ",
     "delete_cmd_prefix": "rm(",
     "library": "var_list.r",
     "varRefreshCmd": "cat(var_dic_list()) "
    }
   },
   "types_to_exclude": [
    "module",
    "function",
    "builtin_function_or_method",
    "instance",
    "_Feature"
   ],
   "window_display": false
  }
 },
 "nbformat": 4,
 "nbformat_minor": 5
}
